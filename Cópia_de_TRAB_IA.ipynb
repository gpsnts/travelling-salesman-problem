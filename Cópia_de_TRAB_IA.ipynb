{
  "nbformat": 4,
  "nbformat_minor": 0,
  "metadata": {
    "colab": {
      "name": "Cópia de TRAB_IA.ipynb",
      "provenance": [],
      "collapsed_sections": [],
      "include_colab_link": true
    },
    "kernelspec": {
      "name": "python3",
      "display_name": "Python 3"
    },
    "language_info": {
      "name": "python"
    }
  },
  "cells": [
    {
      "cell_type": "markdown",
      "metadata": {
        "id": "view-in-github",
        "colab_type": "text"
      },
      "source": [
        "<a href=\"https://colab.research.google.com/github/gpsnts/travelling-salesman-problem/blob/main/C%C3%B3pia_de_TRAB_IA.ipynb\" target=\"_parent\"><img src=\"https://colab.research.google.com/assets/colab-badge.svg\" alt=\"Open In Colab\"/></a>"
      ]
    },
    {
      "cell_type": "markdown",
      "source": [
        "##TRABALHO GRAU A: CAIXEIRO VIAJANTE\n",
        "## NOMES: AUGUSTO FERREIRA, GABRIEL PORTO, LEONARDO ZUCATTI, SANDRO MAURER"
      ],
      "metadata": {
        "id": "m48KsF06VXUF"
      }
    },
    {
      "cell_type": "markdown",
      "source": [
        ""
      ],
      "metadata": {
        "id": "zc7HUb9Fdjzb"
      }
    },
    {
      "cell_type": "code",
      "execution_count": null,
      "metadata": {
        "id": "hUbN7D1XU4xl",
        "colab": {
          "base_uri": "https://localhost:8080/"
        },
        "outputId": "2f6749df-190a-4c6d-82b0-4caef53cd54a"
      },
      "outputs": [
        {
          "output_type": "stream",
          "name": "stdout",
          "text": [
            "Berlin: [['565', '575'], ['25', '185'], ['345', '750'], ['945', '685'], ['845', '655'], ['880', '660'], ['25', '230'], ['525', '1000'], ['580', '1175'], ['650', '1130']]\n",
            "Berlin (size): 10\n",
            "Pr: [['3600', '2300'], ['3100', '3300'], ['4700', '5750'], ['5400', '5750'], ['5608', '7103'], ['4493', '7102'], ['3600', '6950'], ['3100', '7250'], ['4700', '8450'], ['5400', '8450'], ['5610', '10053'], ['4492', '10052'], ['3600', '10800'], ['3100', '10950'], ['4700', '11650'], ['5400', '11650'], ['6650', '10800'], ['7300', '10950'], ['7300', '7250'], ['6650', '6950'], ['7300', '3300'], ['6650', '2300'], ['5400', '1600'], ['8350', '2300'], ['7850', '3300'], ['9450', '5750'], ['10150', '5750'], ['10358', '7103'], ['9243', '7102'], ['8350', '6950'], ['7850', '7250'], ['9450', '8450'], ['10150', '8450'], ['10360', '10053'], ['9242', '10052'], ['8350', '10800'], ['7850', '10950'], ['9450', '11650'], ['10150', '11650'], ['11400', '10800'], ['12050', '10950'], ['12050', '7250'], ['11400', '6950'], ['12050', '3300'], ['11400', '2300'], ['10150', '1600'], ['13100', '2300'], ['12600', '3300'], ['14200', '5750'], ['14900', '5750'], ['15108', '7103'], ['13993', '7102'], ['13100', '6950'], ['12600', '7250'], ['14200', '8450'], ['14900', '8450'], ['15110', '10053'], ['13992', '10052'], ['13100', '10800'], ['12600', '10950'], ['14200', '11650'], ['14900', '11650'], ['16150', '10800'], ['16800', '10950'], ['16800', '7250'], ['16150', '6950'], ['16800', '3300'], ['16150', '2300'], ['14900', '1600'], ['19800', '800'], ['19800', '10000'], ['19800', '11900'], ['19800', '12200'], ['200', '12200'], ['200', '1100'], ['200', '800']]\n",
            "Pr (size): 76\n",
            "St: [['64', '96'], ['80', '39'], ['69', '23'], ['72', '42'], ['48', '67'], ['58', '43'], ['81', '34'], ['79', '17'], ['30', '23'], ['42', '67'], ['7', '76'], ['29', '51'], ['78', '92'], ['64', '8'], ['95', '57'], ['57', '91'], ['40', '35'], ['68', '40'], ['92', '34'], ['62', '1'], ['28', '43'], ['76', '73'], ['67', '88'], ['93', '54'], ['6', '8'], ['87', '18'], ['30', '9'], ['77', '13'], ['78', '94'], ['55', '3'], ['82', '88'], ['73', '28'], ['20', '55'], ['27', '43'], ['95', '86'], ['67', '99'], ['48', '83'], ['75', '81'], ['8', '19'], ['20', '18'], ['54', '38'], ['63', '36'], ['44', '33'], ['52', '18'], ['12', '13'], ['25', '5'], ['58', '85'], ['5', '67'], ['90', '9'], ['41', '76'], ['25', '76'], ['37', '64'], ['56', '63'], ['10', '55'], ['98', '7'], ['16', '74'], ['89', '60'], ['48', '82'], ['81', '76'], ['29', '60'], ['17', '22'], ['5', '45'], ['79', '70'], ['9', '100'], ['17', '82'], ['74', '67'], ['10', '68'], ['48', '19'], ['83', '86'], ['84', '94']]\n",
            "St (size): 70\n",
            "Valor:  [['565', '575'], [['25', '185'], [['25', '230'], [['345', '750'], [['525', '1000'], [['580', '1175'], [['650', '1130'], [['845', '655'], [['880', '660'], '945']]]]]]]]]\n",
            "Circuito:  [1, 2, 7, 3, 8, 9, 10, 5, 6, 4, 1]\n"
          ]
        }
      ],
      "source": [
        "import sys\n",
        "import copy\n",
        "import typing\n",
        "from sys import maxsize\n",
        "from itertools import permutations\n",
        "\n",
        "dirPath = \"/home/\"\n",
        "pathInstanceBerlin52 = \"berlin52.tsp.txt\"\n",
        "pathInstancePr76 = \"pr76.tsp.txt\"\n",
        "pathInstanceSt70 = \"st70.tsp.txt\"\n",
        "\n",
        "def getProblemInfo(path) -> typing.Tuple:\n",
        "  matrix = []\n",
        "\n",
        "  file = open(path, \"r\", encoding=\"utf8\")\n",
        "  lines = file.readlines()[1::]\n",
        "\n",
        "  for line in lines:\n",
        "    split_result = line.split()\n",
        "    x, y = (split_result[0], split_result[1])\n",
        "    matrix.append([x, y])\n",
        "  \n",
        "  file.close()\n",
        "\n",
        "  return (matrix, len(matrix))\n",
        "\n",
        "#---------------- TSP\n",
        "\n",
        "problem_setup_berlin = getProblemInfo(f\"{dirPath}{pathInstanceBerlin52}\")\n",
        "berlin_vertices, berlin_size = problem_setup_berlin\n",
        "print(f\"Berlin: {berlin_vertices}\\nBerlin (size): {berlin_size}\")\n",
        "\n",
        "problem_setup_pr = getProblemInfo(f\"{dirPath}{pathInstancePr76}\")\n",
        "pr_vertices, pr_size = problem_setup_pr\n",
        "print(f\"Pr: {pr_vertices}\\nPr (size): {pr_size}\")\n",
        "\n",
        "problem_setup_st = getProblemInfo(f\"{dirPath}{pathInstanceSt70}\")\n",
        "st_vertices, st_size = problem_setup_st\n",
        "print(f\"St: {st_vertices}\\nSt (size): {st_size}\")\n",
        "\n",
        "n = berlin_size\n",
        "matrix = berlin_vertices\n",
        "g = {}\n",
        "p = []\n",
        "\n",
        "def main():\n",
        "    for x in range(0, n):\n",
        "        g[x + 1, ()] = matrix[x][0]\n",
        "    \n",
        "    cost = get_minimum(1,range(2,n+1))\n",
        "    \n",
        "    solution = p.pop()\n",
        "    a = [1]\n",
        "    a.append(solution[1][0])\n",
        "\n",
        "    for x in range(n - 2):\n",
        "        for new_solution in p:\n",
        "            if tuple(solution[1]) == new_solution[0]:\n",
        "                solution = new_solution\n",
        "                a.append(solution[1][0])\n",
        "                break\n",
        "    a.append(1)\n",
        "   \n",
        "    \n",
        "    print(\"Valor: \",cost)\n",
        "    print(\"Circuito: \", a)\n",
        "    \n",
        "    return\n",
        "\n",
        "def get_minimum(k, a):\n",
        "    if (k, a) in g:\n",
        "        # Already calculated Set g[%d, (%s)]=%d' % (k, str(a), g[k, a]))\n",
        "        return g[k, a]\n",
        "\n",
        "    values = []\n",
        "    all_min = []\n",
        "    for j in a:\n",
        "      set_a = copy.deepcopy(list(a))\n",
        "      set_a.remove(j)\n",
        "      all_min.append([j, tuple(set_a)])\n",
        "      result = get_minimum(j, tuple(set_a))\n",
        "\n",
        "      row = matrix[k-1]\n",
        "\n",
        "      values.append([row, result])\n",
        "\n",
        "    # get minimun value from set as optimal solution for\n",
        "    g[k, a] = min(values)\n",
        "    p.append(((k, a), all_min[values.index(g[k, a])]))\n",
        "\n",
        "    return g[k, a]\n",
        "\n",
        "\n",
        "if __name__ == '__main__':\n",
        "    main()"
      ]
    }
  ]
}